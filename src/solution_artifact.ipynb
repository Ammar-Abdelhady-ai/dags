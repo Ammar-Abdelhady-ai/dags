{
 "cells": [
  {
   "cell_type": "code",
   "execution_count": 2,
   "metadata": {},
   "outputs": [],
   "source": [
    "def solve_artifacts(exception_id=\"317579281513027371\"):\n",
    "    try:\n",
    "        import mlflow, os, yaml\n",
    "\n",
    "        runs = mlflow.search_runs(experiment_ids=[exception_id])\n",
    "        exp_path = os.path.join(os.getcwd(), \"mlruns\", exception_id)\n",
    "\n",
    "        # Internal experiment yaml file\n",
    "        internal_yaml = os.path.join(exp_path, \"meta.yaml\")\n",
    "        with open(internal_yaml, \"r\") as f:\n",
    "            data = yaml.safe_load(f)\n",
    "\n",
    "        data[\"artifact_location\"] = f\"file:///{internal_yaml.replace(' ', '%20').replace(os.sep, '/')}\"\n",
    "        \n",
    "        with open(internal_yaml, \"w\") as f:\n",
    "            yaml.dump(data, f)\n",
    "\n",
    "        for n, exp_id in enumerate(runs[\"experiment_id\"]):\n",
    "            exps_meta = os.path.join(exp_path, os.listdir(exp_path)[n], \"meta.yaml\")\n",
    "\n",
    "            # All internal experiment yaml files\n",
    "            with open(exps_meta, \"r\") as f:\n",
    "                data = yaml.safe_load(f)\n",
    "\n",
    "            data[\"artifact_uri\"] = f\"file:///{exps_meta.replace(' ', '%20').replace(os.sep, '/').replace('meta.yaml', 'artifacts')}\"\n",
    "\n",
    "            with open(exps_meta, \"w\") as f:\n",
    "                yaml.dump(data, f)\n",
    "        \n",
    "    except Exception as error:\n",
    "        return error\n",
    "    \n",
    "    return \"All Done\"\n"
   ]
  },
  {
   "cell_type": "code",
   "execution_count": 3,
   "metadata": {},
   "outputs": [
    {
     "data": {
      "text/plain": [
       "'All Done'"
      ]
     },
     "execution_count": 3,
     "metadata": {},
     "output_type": "execute_result"
    }
   ],
   "source": [
    "solve_artifacts()"
   ]
  },
  {
   "cell_type": "code",
   "execution_count": null,
   "metadata": {},
   "outputs": [],
   "source": []
  }
 ],
 "metadata": {
  "kernelspec": {
   "display_name": "mlop",
   "language": "python",
   "name": "python3"
  },
  "language_info": {
   "codemirror_mode": {
    "name": "ipython",
    "version": 3
   },
   "file_extension": ".py",
   "mimetype": "text/x-python",
   "name": "python",
   "nbconvert_exporter": "python",
   "pygments_lexer": "ipython3",
   "version": "3.9.18"
  }
 },
 "nbformat": 4,
 "nbformat_minor": 2
}
